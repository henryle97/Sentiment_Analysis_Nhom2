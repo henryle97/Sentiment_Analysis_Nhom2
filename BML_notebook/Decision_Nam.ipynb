{
 "cells": [
  {
   "cell_type": "code",
   "execution_count": 10,
   "metadata": {},
   "outputs": [],
   "source": [
    "import numpy as np\n",
    "import pandas as pd\n",
    "import os \n",
    "import re\n",
    "from pyvi import ViTokenizer"
   ]
  },
  {
   "cell_type": "code",
   "execution_count": 4,
   "metadata": {},
   "outputs": [
    {
     "data": {
      "text/html": [
       "<div>\n",
       "<style scoped>\n",
       "    .dataframe tbody tr th:only-of-type {\n",
       "        vertical-align: middle;\n",
       "    }\n",
       "\n",
       "    .dataframe tbody tr th {\n",
       "        vertical-align: top;\n",
       "    }\n",
       "\n",
       "    .dataframe thead th {\n",
       "        text-align: right;\n",
       "    }\n",
       "</style>\n",
       "<table border=\"1\" class=\"dataframe\">\n",
       "  <thead>\n",
       "    <tr style=\"text-align: right;\">\n",
       "      <th></th>\n",
       "      <th>comment</th>\n",
       "      <th>label</th>\n",
       "    </tr>\n",
       "  </thead>\n",
       "  <tbody>\n",
       "    <tr>\n",
       "      <th>0</th>\n",
       "      <td>mua có mỗi bingsu thập_cẩm 45k mà mình f đợi h...</td>\n",
       "      <td>0</td>\n",
       "    </tr>\n",
       "    <tr>\n",
       "      <th>1</th>\n",
       "      <td>thứ 6 nào ta cùng quẩy vuvuzela ber club chung...</td>\n",
       "      <td>0</td>\n",
       "    </tr>\n",
       "    <tr>\n",
       "      <th>2</th>\n",
       "      <td>mình đi với nhóm tổng_cộng 4 người ăn chỉ có k...</td>\n",
       "      <td>0</td>\n",
       "    </tr>\n",
       "    <tr>\n",
       "      <th>3</th>\n",
       "      <td>nhân_viên phục_vụ không mấy tận_tình đồ ăn ra ...</td>\n",
       "      <td>0</td>\n",
       "    </tr>\n",
       "    <tr>\n",
       "      <th>4</th>\n",
       "      <td>vào đây thì hết bàn nhưng mình vẫn ngồi đợi bì...</td>\n",
       "      <td>0</td>\n",
       "    </tr>\n",
       "    <tr>\n",
       "      <th>...</th>\n",
       "      <td>...</td>\n",
       "      <td>...</td>\n",
       "    </tr>\n",
       "    <tr>\n",
       "      <th>39995</th>\n",
       "      <td>quán không_gian nhỏ nhưng khá lịch_sự sạch_sẽ ...</td>\n",
       "      <td>1</td>\n",
       "    </tr>\n",
       "    <tr>\n",
       "      <th>39996</th>\n",
       "      <td>đi ăn lần 2 lần này rút kinh_nghiệm k yêu đồ ă...</td>\n",
       "      <td>1</td>\n",
       "    </tr>\n",
       "    <tr>\n",
       "      <th>39997</th>\n",
       "      <td>mình ăn 2 món mà quên tên mất rồi toàn từ cá_h...</td>\n",
       "      <td>1</td>\n",
       "    </tr>\n",
       "    <tr>\n",
       "      <th>39998</th>\n",
       "      <td>trong ảnh là 1 phần mì udon xào 1 phần cuốn ki...</td>\n",
       "      <td>1</td>\n",
       "    </tr>\n",
       "    <tr>\n",
       "      <th>39999</th>\n",
       "      <td>địa_điểm dễ tìm mậu thân quẹo vào đường bờ hồ ...</td>\n",
       "      <td>1</td>\n",
       "    </tr>\n",
       "  </tbody>\n",
       "</table>\n",
       "<p>40000 rows × 2 columns</p>\n",
       "</div>"
      ],
      "text/plain": [
       "                                                 comment  label\n",
       "0      mua có mỗi bingsu thập_cẩm 45k mà mình f đợi h...      0\n",
       "1      thứ 6 nào ta cùng quẩy vuvuzela ber club chung...      0\n",
       "2      mình đi với nhóm tổng_cộng 4 người ăn chỉ có k...      0\n",
       "3      nhân_viên phục_vụ không mấy tận_tình đồ ăn ra ...      0\n",
       "4      vào đây thì hết bàn nhưng mình vẫn ngồi đợi bì...      0\n",
       "...                                                  ...    ...\n",
       "39995  quán không_gian nhỏ nhưng khá lịch_sự sạch_sẽ ...      1\n",
       "39996  đi ăn lần 2 lần này rút kinh_nghiệm k yêu đồ ă...      1\n",
       "39997  mình ăn 2 món mà quên tên mất rồi toàn từ cá_h...      1\n",
       "39998  trong ảnh là 1 phần mì udon xào 1 phần cuốn ki...      1\n",
       "39999  địa_điểm dễ tìm mậu thân quẹo vào đường bờ hồ ...      1\n",
       "\n",
       "[40000 rows x 2 columns]"
      ]
     },
     "execution_count": 4,
     "metadata": {},
     "output_type": "execute_result"
    }
   ],
   "source": [
    "path_train = './data/train_foody_processed.csv'\n",
    "path_test = './data/test_foody_processed.csv'\n",
    "df_train = pd.read_csv(path_train)\n",
    "df_train"
   ]
  },
  {
   "cell_type": "code",
   "execution_count": 6,
   "metadata": {},
   "outputs": [
    {
     "data": {
      "text/html": [
       "<div>\n",
       "<style scoped>\n",
       "    .dataframe tbody tr th:only-of-type {\n",
       "        vertical-align: middle;\n",
       "    }\n",
       "\n",
       "    .dataframe tbody tr th {\n",
       "        vertical-align: top;\n",
       "    }\n",
       "\n",
       "    .dataframe thead th {\n",
       "        text-align: right;\n",
       "    }\n",
       "</style>\n",
       "<table border=\"1\" class=\"dataframe\">\n",
       "  <thead>\n",
       "    <tr style=\"text-align: right;\">\n",
       "      <th></th>\n",
       "      <th>comment</th>\n",
       "      <th>label</th>\n",
       "    </tr>\n",
       "  </thead>\n",
       "  <tbody>\n",
       "    <tr>\n",
       "      <th>0</th>\n",
       "      <td>nhân_viên ở đây rất thân_thiện nhiệt_tình tổ_c...</td>\n",
       "      <td>1</td>\n",
       "    </tr>\n",
       "    <tr>\n",
       "      <th>1</th>\n",
       "      <td>cafe chiều dần buông lát nắng mảnh như tơ từ t...</td>\n",
       "      <td>1</td>\n",
       "    </tr>\n",
       "    <tr>\n",
       "      <th>2</th>\n",
       "      <td>đy ngang nhưng không thấy tiệm đó muốn ăn thử ...</td>\n",
       "      <td>0</td>\n",
       "    </tr>\n",
       "    <tr>\n",
       "      <th>3</th>\n",
       "      <td>hum nay mới đi ăn thử vài món thấy khá ngon gi...</td>\n",
       "      <td>0</td>\n",
       "    </tr>\n",
       "    <tr>\n",
       "      <th>4</th>\n",
       "      <td>lần đầu đến quán thấy 1 phong_cách khá lạ có c...</td>\n",
       "      <td>1</td>\n",
       "    </tr>\n",
       "    <tr>\n",
       "      <th>...</th>\n",
       "      <td>...</td>\n",
       "      <td>...</td>\n",
       "    </tr>\n",
       "    <tr>\n",
       "      <th>39995</th>\n",
       "      <td>quay lại quán sau 1 năm tại có ng rủ đi quán c...</td>\n",
       "      <td>0</td>\n",
       "    </tr>\n",
       "    <tr>\n",
       "      <th>39996</th>\n",
       "      <td>chán khỏi nói như đi hửi phân ngựa vậy mà lần ...</td>\n",
       "      <td>0</td>\n",
       "    </tr>\n",
       "    <tr>\n",
       "      <th>39997</th>\n",
       "      <td>nhà_nghỉ phải nói là tệ về khoản không_gian gi...</td>\n",
       "      <td>0</td>\n",
       "    </tr>\n",
       "    <tr>\n",
       "      <th>39998</th>\n",
       "      <td>mình và đứa bạn thân đến ăn_ở món huế hôm_nay ...</td>\n",
       "      <td>0</td>\n",
       "    </tr>\n",
       "    <tr>\n",
       "      <th>39999</th>\n",
       "      <td>came here after diner parking and aces qua d e...</td>\n",
       "      <td>1</td>\n",
       "    </tr>\n",
       "  </tbody>\n",
       "</table>\n",
       "<p>40000 rows × 2 columns</p>\n",
       "</div>"
      ],
      "text/plain": [
       "                                                 comment  label\n",
       "0      nhân_viên ở đây rất thân_thiện nhiệt_tình tổ_c...      1\n",
       "1      cafe chiều dần buông lát nắng mảnh như tơ từ t...      1\n",
       "2      đy ngang nhưng không thấy tiệm đó muốn ăn thử ...      0\n",
       "3      hum nay mới đi ăn thử vài món thấy khá ngon gi...      0\n",
       "4      lần đầu đến quán thấy 1 phong_cách khá lạ có c...      1\n",
       "...                                                  ...    ...\n",
       "39995  quay lại quán sau 1 năm tại có ng rủ đi quán c...      0\n",
       "39996  chán khỏi nói như đi hửi phân ngựa vậy mà lần ...      0\n",
       "39997  nhà_nghỉ phải nói là tệ về khoản không_gian gi...      0\n",
       "39998  mình và đứa bạn thân đến ăn_ở món huế hôm_nay ...      0\n",
       "39999  came here after diner parking and aces qua d e...      1\n",
       "\n",
       "[40000 rows x 2 columns]"
      ]
     },
     "execution_count": 6,
     "metadata": {},
     "output_type": "execute_result"
    }
   ],
   "source": [
    "df_train = df_train.sample(frac=1).reset_index(drop=True)\n",
    "df_train"
   ]
  },
  {
   "cell_type": "code",
   "execution_count": 5,
   "metadata": {},
   "outputs": [
    {
     "data": {
      "text/html": [
       "<div>\n",
       "<style scoped>\n",
       "    .dataframe tbody tr th:only-of-type {\n",
       "        vertical-align: middle;\n",
       "    }\n",
       "\n",
       "    .dataframe tbody tr th {\n",
       "        vertical-align: top;\n",
       "    }\n",
       "\n",
       "    .dataframe thead th {\n",
       "        text-align: right;\n",
       "    }\n",
       "</style>\n",
       "<table border=\"1\" class=\"dataframe\">\n",
       "  <thead>\n",
       "    <tr style=\"text-align: right;\">\n",
       "      <th></th>\n",
       "      <th>comment</th>\n",
       "      <th>label</th>\n",
       "    </tr>\n",
       "  </thead>\n",
       "  <tbody>\n",
       "    <tr>\n",
       "      <th>0</th>\n",
       "      <td>quán này khá là nổi_tiếng nay mới có dịp ghé t...</td>\n",
       "      <td>0</td>\n",
       "    </tr>\n",
       "    <tr>\n",
       "      <th>1</th>\n",
       "      <td>đây là lần đầu_tiên mình ăn_ở đây và có_lẽ cũn...</td>\n",
       "      <td>0</td>\n",
       "    </tr>\n",
       "    <tr>\n",
       "      <th>2</th>\n",
       "      <td>tha i đô phu c vu nhân_viên không tô t_tra sư ...</td>\n",
       "      <td>0</td>\n",
       "    </tr>\n",
       "    <tr>\n",
       "      <th>3</th>\n",
       "      <td>đồ ăn bình_thường cần chăm_chút không_gian hơn...</td>\n",
       "      <td>0</td>\n",
       "    </tr>\n",
       "    <tr>\n",
       "      <th>4</th>\n",
       "      <td>phục_vụ lâu giá thì ổn thôi nhưng chất_lượng b...</td>\n",
       "      <td>0</td>\n",
       "    </tr>\n",
       "    <tr>\n",
       "      <th>...</th>\n",
       "      <td>...</td>\n",
       "      <td>...</td>\n",
       "    </tr>\n",
       "    <tr>\n",
       "      <th>9995</th>\n",
       "      <td>gia re mon an ngon view đẹp va nhan vien nhiet...</td>\n",
       "      <td>1</td>\n",
       "    </tr>\n",
       "    <tr>\n",
       "      <th>9996</th>\n",
       "      <td>quán nằm trên đường thạch_thị thanh dễ tìm khô...</td>\n",
       "      <td>1</td>\n",
       "    </tr>\n",
       "    <tr>\n",
       "      <th>9997</th>\n",
       "      <td>mình đã đến ăn_ở quán này vài lần đồ ăn ngon g...</td>\n",
       "      <td>1</td>\n",
       "    </tr>\n",
       "    <tr>\n",
       "      <th>9998</th>\n",
       "      <td>nhà_hàng trang_trí độc_đáo món ăn mới_lạ nhiều...</td>\n",
       "      <td>1</td>\n",
       "    </tr>\n",
       "    <tr>\n",
       "      <th>9999</th>\n",
       "      <td>quán có đồ uống hạt_dẻ nhất khu_vực tc siêu rẻ...</td>\n",
       "      <td>1</td>\n",
       "    </tr>\n",
       "  </tbody>\n",
       "</table>\n",
       "<p>10000 rows × 2 columns</p>\n",
       "</div>"
      ],
      "text/plain": [
       "                                                comment  label\n",
       "0     quán này khá là nổi_tiếng nay mới có dịp ghé t...      0\n",
       "1     đây là lần đầu_tiên mình ăn_ở đây và có_lẽ cũn...      0\n",
       "2     tha i đô phu c vu nhân_viên không tô t_tra sư ...      0\n",
       "3     đồ ăn bình_thường cần chăm_chút không_gian hơn...      0\n",
       "4     phục_vụ lâu giá thì ổn thôi nhưng chất_lượng b...      0\n",
       "...                                                 ...    ...\n",
       "9995  gia re mon an ngon view đẹp va nhan vien nhiet...      1\n",
       "9996  quán nằm trên đường thạch_thị thanh dễ tìm khô...      1\n",
       "9997  mình đã đến ăn_ở quán này vài lần đồ ăn ngon g...      1\n",
       "9998  nhà_hàng trang_trí độc_đáo món ăn mới_lạ nhiều...      1\n",
       "9999  quán có đồ uống hạt_dẻ nhất khu_vực tc siêu rẻ...      1\n",
       "\n",
       "[10000 rows x 2 columns]"
      ]
     },
     "execution_count": 5,
     "metadata": {},
     "output_type": "execute_result"
    }
   ],
   "source": [
    "df_test = pd.read_csv(path_test)\n",
    "df_test"
   ]
  },
  {
   "cell_type": "code",
   "execution_count": 7,
   "metadata": {},
   "outputs": [
    {
     "data": {
      "text/html": [
       "<div>\n",
       "<style scoped>\n",
       "    .dataframe tbody tr th:only-of-type {\n",
       "        vertical-align: middle;\n",
       "    }\n",
       "\n",
       "    .dataframe tbody tr th {\n",
       "        vertical-align: top;\n",
       "    }\n",
       "\n",
       "    .dataframe thead th {\n",
       "        text-align: right;\n",
       "    }\n",
       "</style>\n",
       "<table border=\"1\" class=\"dataframe\">\n",
       "  <thead>\n",
       "    <tr style=\"text-align: right;\">\n",
       "      <th></th>\n",
       "      <th>comment</th>\n",
       "      <th>label</th>\n",
       "    </tr>\n",
       "  </thead>\n",
       "  <tbody>\n",
       "    <tr>\n",
       "      <th>0</th>\n",
       "      <td>nhân_dịp lên phố cổ rẽ qua đây ăn quán khá dễ ...</td>\n",
       "      <td>1</td>\n",
       "    </tr>\n",
       "    <tr>\n",
       "      <th>1</th>\n",
       "      <td>thời_tiết siêu lạnh mưa_gió dầm_dề tay_chân tê...</td>\n",
       "      <td>1</td>\n",
       "    </tr>\n",
       "    <tr>\n",
       "      <th>2</th>\n",
       "      <td>hấp diêm thị_giác thật 3 cái gì cũng muốn ăn m...</td>\n",
       "      <td>1</td>\n",
       "    </tr>\n",
       "    <tr>\n",
       "      <th>3</th>\n",
       "      <td>hnay ghé lại ăn tuk tuk xem thế_nào nhân_viên ...</td>\n",
       "      <td>1</td>\n",
       "    </tr>\n",
       "    <tr>\n",
       "      <th>4</th>\n",
       "      <td>hôm cuối tuần mình thèm món thái ở gần nhà có_...</td>\n",
       "      <td>0</td>\n",
       "    </tr>\n",
       "    <tr>\n",
       "      <th>...</th>\n",
       "      <td>...</td>\n",
       "      <td>...</td>\n",
       "    </tr>\n",
       "    <tr>\n",
       "      <th>9995</th>\n",
       "      <td>tàu hủ đá tạo được hương_vị riêng so với các n...</td>\n",
       "      <td>1</td>\n",
       "    </tr>\n",
       "    <tr>\n",
       "      <th>9996</th>\n",
       "      <td>mới đi phú quốc về có ghé quán ăn thử do người...</td>\n",
       "      <td>1</td>\n",
       "    </tr>\n",
       "    <tr>\n",
       "      <th>9997</th>\n",
       "      <td>haiz nay mới có dịp check quán này điểm cộng q...</td>\n",
       "      <td>0</td>\n",
       "    </tr>\n",
       "    <tr>\n",
       "      <th>9998</th>\n",
       "      <td>đồ uống không có gì đặc_sắc không ngon bằng nơ...</td>\n",
       "      <td>1</td>\n",
       "    </tr>\n",
       "    <tr>\n",
       "      <th>9999</th>\n",
       "      <td>nói_chung là quán này rất ok về cả vị_trí hươn...</td>\n",
       "      <td>0</td>\n",
       "    </tr>\n",
       "  </tbody>\n",
       "</table>\n",
       "<p>10000 rows × 2 columns</p>\n",
       "</div>"
      ],
      "text/plain": [
       "                                                comment  label\n",
       "0     nhân_dịp lên phố cổ rẽ qua đây ăn quán khá dễ ...      1\n",
       "1     thời_tiết siêu lạnh mưa_gió dầm_dề tay_chân tê...      1\n",
       "2     hấp diêm thị_giác thật 3 cái gì cũng muốn ăn m...      1\n",
       "3     hnay ghé lại ăn tuk tuk xem thế_nào nhân_viên ...      1\n",
       "4     hôm cuối tuần mình thèm món thái ở gần nhà có_...      0\n",
       "...                                                 ...    ...\n",
       "9995  tàu hủ đá tạo được hương_vị riêng so với các n...      1\n",
       "9996  mới đi phú quốc về có ghé quán ăn thử do người...      1\n",
       "9997  haiz nay mới có dịp check quán này điểm cộng q...      0\n",
       "9998  đồ uống không có gì đặc_sắc không ngon bằng nơ...      1\n",
       "9999  nói_chung là quán này rất ok về cả vị_trí hươn...      0\n",
       "\n",
       "[10000 rows x 2 columns]"
      ]
     },
     "execution_count": 7,
     "metadata": {},
     "output_type": "execute_result"
    }
   ],
   "source": [
    "df_test = df_test.sample(frac=1).reset_index(drop=True)\n",
    "df_test "
   ]
  },
  {
   "cell_type": "code",
   "execution_count": 12,
   "metadata": {},
   "outputs": [],
   "source": [
    "# Danh sách stopword\n",
    "stopword = list(open('vietnamese_stop_words.txt',encoding ='utf8'))\n",
    "for i in range(len(stopword)):\n",
    "    stopword[i] = stopword[i].replace('\\n','')\n",
    "    stopword[i] = ViTokenizer.tokenize(stopword[i])"
   ]
  },
  {
   "cell_type": "markdown",
   "metadata": {},
   "source": [
    "## Bag of words"
   ]
  },
  {
   "cell_type": "code",
   "execution_count": null,
   "metadata": {},
   "outputs": [],
   "source": [
    "from sklearn.tree import DecisionTreeClassifier\n",
    "from sklearn.metrics import f1_score,accuracy_score,roc_auc_score,classification_report"
   ]
  },
  {
   "cell_type": "code",
   "execution_count": 31,
   "metadata": {},
   "outputs": [],
   "source": [
    "from sklearn.feature_extraction.text import CountVectorizer\n",
    "\n",
    "x = df_train.values[:,0]\n",
    "#count_vec = CountVectorizer(ngram_range=(1,5),stop_words=stopword,max_df=0.5,min_df=5)\n",
    "count_vec = CountVectorizer()\n",
    "X = count_vec.fit_transform(x)"
   ]
  },
  {
   "cell_type": "code",
   "execution_count": 60,
   "metadata": {},
   "outputs": [
    {
     "data": {
      "text/plain": [
       "DecisionTreeClassifier(ccp_alpha=0.0, class_weight=None, criterion='gini',\n",
       "                       max_depth=10, max_features=None, max_leaf_nodes=None,\n",
       "                       min_impurity_decrease=0.0, min_impurity_split=None,\n",
       "                       min_samples_leaf=1, min_samples_split=2,\n",
       "                       min_weight_fraction_leaf=0.0, presort='deprecated',\n",
       "                       random_state=None, splitter='best')"
      ]
     },
     "execution_count": 60,
     "metadata": {},
     "output_type": "execute_result"
    }
   ],
   "source": [
    "y = df_train.values[:,1].astype('int')\n",
    "tree = DecisionTreeClassifier(max_depth = 10)\n",
    "tree.fit(X,y)"
   ]
  },
  {
   "cell_type": "code",
   "execution_count": 61,
   "metadata": {},
   "outputs": [
    {
     "name": "stdout",
     "output_type": "stream",
     "text": [
      "auc on training data set 0.8162\n",
      "auc on test data set 0.7713\n",
      "classification report               precision    recall  f1-score   support\n",
      "\n",
      "           0       0.79      0.73      0.76      5000\n",
      "           1       0.75      0.81      0.78      5000\n",
      "\n",
      "    accuracy                           0.77     10000\n",
      "   macro avg       0.77      0.77      0.77     10000\n",
      "weighted avg       0.77      0.77      0.77     10000\n",
      "\n"
     ]
    }
   ],
   "source": [
    "xtest = df_test.values[:,0]\n",
    "Xtest = count_vec.transform(xtest)\n",
    "ytest = df_test.values[:,1].astype('int')\n",
    "y_train_pred = tree.predict(X)\n",
    "y_test_pred = tree.predict(Xtest)\n",
    "print('auc on training data set {:.4f}'.format(roc_auc_score(y,y_train_pred)))\n",
    "print('auc on test data set {:.4f}'.format(roc_auc_score(ytest,y_test_pred)))\n",
    "#print('f1 score on training data set {:.4f}'.format(f1_score(ytest,y_test_pred)))\n",
    "#print('accuracy score on training data set {:.4f}'.format(accuracy_score(ytest,y_test_pred)))\n",
    "print('classification report',classification_report(ytest,y_test_pred))"
   ]
  },
  {
   "cell_type": "markdown",
   "metadata": {},
   "source": [
    "## TF-IDF"
   ]
  },
  {
   "cell_type": "code",
   "execution_count": 62,
   "metadata": {},
   "outputs": [
    {
     "data": {
      "text/plain": [
       "DecisionTreeClassifier(ccp_alpha=0.0, class_weight=None, criterion='gini',\n",
       "                       max_depth=10, max_features=None, max_leaf_nodes=None,\n",
       "                       min_impurity_decrease=0.0, min_impurity_split=None,\n",
       "                       min_samples_leaf=1, min_samples_split=2,\n",
       "                       min_weight_fraction_leaf=0.0, presort='deprecated',\n",
       "                       random_state=None, splitter='best')"
      ]
     },
     "execution_count": 62,
     "metadata": {},
     "output_type": "execute_result"
    }
   ],
   "source": [
    "from sklearn.feature_extraction.text import TfidfTransformer\n",
    "#tfidf = TfidfTransformer(use_idf = False,sublinear_tf=True,norm='l2',smooth_idf=True)\n",
    "tfidf = TfidfTransformer()\n",
    "Xtf = tfidf.fit_transform(X)\n",
    "tree.fit(Xtf,y)"
   ]
  },
  {
   "cell_type": "code",
   "execution_count": 63,
   "metadata": {},
   "outputs": [
    {
     "name": "stdout",
     "output_type": "stream",
     "text": [
      "auc on training data set 0.8293\n",
      "auc on test data set 0.7793\n",
      "f1 score on training data set 0.7819\n",
      "accuracy score on training data set 0.7793\n",
      "classification report \n",
      "               precision    recall  f1-score   support\n",
      "\n",
      "           0       0.79      0.77      0.78      5000\n",
      "           1       0.77      0.79      0.78      5000\n",
      "\n",
      "    accuracy                           0.78     10000\n",
      "   macro avg       0.78      0.78      0.78     10000\n",
      "weighted avg       0.78      0.78      0.78     10000\n",
      "\n"
     ]
    }
   ],
   "source": [
    "Xtftest = tfidf.transform(Xtest)\n",
    "ytf_test_pred = tree.predict(Xtftest)\n",
    "ytf_train_pred = tree.predict(Xtf)\n",
    "print('auc on training data set {:.4f}'.format(roc_auc_score(y,ytf_train_pred)))\n",
    "print('auc on test data set {:.4f}'.format(roc_auc_score(ytest,ytf_test_pred)))\n",
    "print('f1 score on training data set {:.4f}'.format(f1_score(ytest,ytf_test_pred)))\n",
    "print('accuracy score on training data set {:.4f}'.format(accuracy_score(ytest,ytf_test_pred)))\n",
    "print('classification report \\n',classification_report(ytest,ytf_test_pred))"
   ]
  },
  {
   "cell_type": "code",
   "execution_count": 102,
   "metadata": {},
   "outputs": [],
   "source": [
    "from sklearn.pipeline import Pipeline"
   ]
  },
  {
   "cell_type": "code",
   "execution_count": 105,
   "metadata": {},
   "outputs": [
    {
     "name": "stdout",
     "output_type": "stream",
     "text": [
      "0.7514\n",
      "              precision    recall  f1-score   support\n",
      "\n",
      "           0       0.75      0.75      0.75      5000\n",
      "           1       0.75      0.75      0.75      5000\n",
      "\n",
      "    accuracy                           0.75     10000\n",
      "   macro avg       0.75      0.75      0.75     10000\n",
      "weighted avg       0.75      0.75      0.75     10000\n",
      "\n"
     ]
    }
   ],
   "source": [
    "text_clf = Pipeline([('vect', CountVectorizer()), ('tfidf', TfidfTransformer()), ('clf', DecisionTreeClassifier(criterion='entropy'))])\n",
    "\n",
    "text_clf.fit(x,y)\n",
    "y_pred = text_clf.predict(xtest)\n",
    "print(accuracy_score(ytest,y_pred))\n",
    "print(classification_report(ytest,y_pred))"
   ]
  },
  {
   "cell_type": "code",
   "execution_count": 106,
   "metadata": {},
   "outputs": [
    {
     "name": "stdout",
     "output_type": "stream",
     "text": [
      "0.7542\n",
      "              precision    recall  f1-score   support\n",
      "\n",
      "           0       0.75      0.76      0.75      5000\n",
      "           1       0.75      0.75      0.75      5000\n",
      "\n",
      "    accuracy                           0.75     10000\n",
      "   macro avg       0.75      0.75      0.75     10000\n",
      "weighted avg       0.75      0.75      0.75     10000\n",
      "\n"
     ]
    }
   ],
   "source": [
    "text_clf = Pipeline([('vect', CountVectorizer()), ('tfidf', TfidfTransformer()), ('clf', DecisionTreeClassifier(criterion='gini',max_depth = 15))])\n",
    "\n",
    "text_clf.fit(x,y)\n",
    "y_pred = text_clf.predict(xtest)\n",
    "print(accuracy_score(ytest,y_pred))\n",
    "print(classification_report(ytest,y_pred))"
   ]
  },
  {
   "cell_type": "markdown",
   "metadata": {},
   "source": [
    "## Áp dụng Pipeline"
   ]
  },
  {
   "cell_type": "code",
   "execution_count": 110,
   "metadata": {},
   "outputs": [
    {
     "name": "stdout",
     "output_type": "stream",
     "text": [
      "2 0.6945 0\n",
      "3 0.7226 0.6945\n",
      "4 0.7394 0.7226\n",
      "5 0.7464 0.7394\n",
      "6 0.7635 0.7464\n",
      "7 0.7714 0.7635\n",
      "8 0.7784 0.7714\n",
      "9 0.7809 0.7784\n",
      "10 0.7777 0.7809\n",
      "11 0.7827 0.7809\n",
      "12 0.7783 0.7827\n",
      "13 0.7836 0.7827\n",
      "14 0.7811 0.7836\n",
      "15 0.781 0.7836\n",
      "16 0.7791 0.7836\n",
      "17 0.781 0.7836\n",
      "18 0.78 0.7836\n",
      "19 0.7805 0.7836\n",
      "20 0.7798 0.7836\n",
      "21 0.781 0.7836\n",
      "22 0.7758 0.7836\n",
      "23 0.7787 0.7836\n",
      "24 0.7791 0.7836\n",
      "25 0.7724 0.7836\n",
      "26 0.7763 0.7836\n",
      "27 0.7739 0.7836\n",
      "28 0.7723 0.7836\n",
      "29 0.7759 0.7836\n",
      "(13, 0.7836)\n"
     ]
    }
   ],
   "source": [
    "max_reg = None\n",
    "max_score = 0  \n",
    "best_max_depth = None\n",
    "t=()\n",
    "for m in range(2, 30) :\n",
    "    rf_clf = Pipeline([('vect', CountVectorizer()), ('tfidf', TfidfTransformer(min_df=2, max_df=0.5, ngram_range=(1,2))), ('clf', DecisionTreeClassifier(criterion='gini',max_depth = m))])\n",
    "    rf_clf.fit(x,y)\n",
    "    y_pred = rf_clf.predict(xtest)\n",
    "    #print(accuracy_score(ytest,y_pred))\n",
    "    #print(classification_report(ytest,y_pred))\n",
    "    rf_clf_score = rf_clf.score(xtest,ytest)\n",
    "    print (m, rf_clf_score ,max_score) \n",
    "    if rf_clf_score > max_score :\n",
    "        max_score = rf_clf_score\n",
    "        max_reg = rf_clf\n",
    "        best_max_depth = rf_clf['clf'].max_depth\n",
    "        \n",
    "        t = (m,max_score) \n",
    "print (t)"
   ]
  },
  {
   "cell_type": "code",
   "execution_count": 122,
   "metadata": {},
   "outputs": [
    {
     "data": {
      "text/plain": [
       "(40000, 19253)"
      ]
     },
     "execution_count": 122,
     "metadata": {},
     "output_type": "execute_result"
    }
   ],
   "source": [
    "tfvec = TfidfVectorizer(min_df=2, max_df=0.5,max_features = None)\n",
    "Xtfvec = tfvec.fit_transform(x)\n",
    "Xtfvec.shape\n"
   ]
  },
  {
   "cell_type": "code",
   "execution_count": 136,
   "metadata": {},
   "outputs": [
    {
     "name": "stdout",
     "output_type": "stream",
     "text": [
      "4 0.7962 0\n",
      "(4, 0.7962)\n"
     ]
    }
   ],
   "source": [
    "# min_df = 5 Sẽ bỏ đi cái word nếu word đó xuất hiện dưới số min_df documents\n",
    "# max_df = 0.5 sẽ bỏ đi các word nếu word đó xuất hiện lớn hơn 50% tổng số documents\n",
    "from sklearn.feature_extraction.text import TfidfVectorizer\n",
    "max_reg = None\n",
    "max_score = 0  \n",
    "best_max_depth = None\n",
    "t=()\n",
    "for m in range(4,5) :\n",
    "    rf_clf = Pipeline([('tfidf', TfidfVectorizer(max_features = None,min_df=3, max_df=0.9,ngram_range=(1,3) )), ('clf', DecisionTreeClassifier(criterion='gini',max_depth = 13))])\n",
    "    rf_clf.fit(x,y)\n",
    "    y_pred = rf_clf.predict(xtest)\n",
    "    #print(accuracy_score(ytest,y_pred))\n",
    "    #print(classification_report(ytest,y_pred))\n",
    "    rf_clf_score = rf_clf.score(xtest,ytest)\n",
    "    print (m, rf_clf_score ,max_score) \n",
    "    if rf_clf_score > max_score :\n",
    "        max_score = rf_clf_score\n",
    "        max_reg = rf_clf\n",
    "        best_max_depth = rf_clf['clf'].max_depth\n",
    "        t = (m,max_score) \n",
    "print(t)"
   ]
  },
  {
   "cell_type": "code",
   "execution_count": null,
   "metadata": {},
   "outputs": [],
   "source": []
  }
 ],
 "metadata": {
  "kernelspec": {
   "display_name": "Python 3",
   "language": "python",
   "name": "python3"
  },
  "language_info": {
   "codemirror_mode": {
    "name": "ipython",
    "version": 3
   },
   "file_extension": ".py",
   "mimetype": "text/x-python",
   "name": "python",
   "nbconvert_exporter": "python",
   "pygments_lexer": "ipython3",
   "version": "3.7.7"
  }
 },
 "nbformat": 4,
 "nbformat_minor": 4
}
