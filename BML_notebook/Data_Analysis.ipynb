{
  "nbformat": 4,
  "nbformat_minor": 0,
  "metadata": {
    "colab": {
      "name": "Data Analysis.ipynb",
      "provenance": [],
      "collapsed_sections": []
    },
    "kernelspec": {
      "name": "python3",
      "display_name": "Python 3"
    },
    "accelerator": "GPU"
  },
  "cells": [
    {
      "cell_type": "code",
      "metadata": {
        "id": "H9ZwZ3YRCYsA",
        "colab": {
          "base_uri": "https://localhost:8080/"
        },
        "outputId": "51a2ab17-736f-4b26-98c4-c8c256a39c2c"
      },
      "source": [
        "\n",
        "from google.colab import drive\n",
        "drive.mount('/content/drive')"
      ],
      "execution_count": 1,
      "outputs": [
        {
          "output_type": "stream",
          "text": [
            "Mounted at /content/drive\n"
          ],
          "name": "stdout"
        }
      ]
    },
    {
      "cell_type": "code",
      "metadata": {
        "id": "cakP_FXqGOpH",
        "colab": {
          "base_uri": "https://localhost:8080/"
        },
        "outputId": "a476f8ce-f651-4d73-9fab-cac3cb1cba77"
      },
      "source": [
        "%cd '/content/drive/MyDrive/Vin/Basic Machine Learning/Project/Semantic-Analysis-Vietnamese'\n",
        "! ls"
      ],
      "execution_count": 2,
      "outputs": [
        {
          "output_type": "stream",
          "text": [
            "/content/drive/MyDrive/Vin/Basic Machine Learning/Project/Semantic-Analysis-Vietnamese\n",
            " binhluan.py\t       'Phân tích dữ liệu.ipynb'   SVM_final.ipynb\n",
            " data\t\t        preporocess.ipynb\t   SVM.ipynb\n",
            "'Data Analysis.ipynb'   Sentiment_Project.ipynb    vietnamese-stopwords.txt\n",
            " dataraw\t        SVM_25_12_1.ipynb\n",
            " dataset\t        SVM_final1.ipynb\n"
          ],
          "name": "stdout"
        }
      ]
    },
    {
      "cell_type": "code",
      "metadata": {
        "id": "6Hhdb_UGGTre",
        "colab": {
          "base_uri": "https://localhost:8080/"
        },
        "outputId": "240907e6-4e7a-4ade-a79b-838392a3cfee"
      },
      "source": [
        "contents = []\n",
        "X_train = []\n",
        "y_train = []\n",
        "f = open(\"data/train_neg.txt\", \"r\")\n",
        "data = f.read()\n",
        "lines = data.split(\"\\n\")\n",
        "for line in lines:\n",
        "    if( line != ' '):\n",
        "        X_train.append(line)\n",
        "        contents.append(line)\n",
        "        y_train.append(0)\n",
        "f.close()\n",
        "\n",
        "del X_train[-1]\n",
        "del y_train[-1]\n",
        "del contents[-1]\n",
        "\n",
        "f = open(\"data/train_pos.txt\", \"r\")\n",
        "data = f.read()\n",
        "lines = data.split(\"\\n\")\n",
        "for line in lines:\n",
        "    if( line != ' ' and line != '\\n'):\n",
        "        X_train.append(line)\n",
        "        contents.append(line)\n",
        "        y_train.append(1)\n",
        "f.close()\n",
        "del X_train[-1]\n",
        "del y_train[-1]\n",
        "del contents[-1]\n",
        "\n",
        "\n",
        "\n",
        "#X_val = []\n",
        "#y_val = []\n",
        "f = open(\"data/val_neg.txt\", \"r\")\n",
        "data = f.read()\n",
        "lines = data.split(\"\\n\")\n",
        "for line in lines:\n",
        "    if( line != ' ' ):\n",
        "        X_train.append(line)\n",
        "        contents.append(line)\n",
        "        y_train.append(0)\n",
        "f.close()\n",
        "del X_train[-1]\n",
        "del y_train[-1]\n",
        "del contents[-1]\n",
        "\n",
        "f = open(\"data/val_pos.txt\", \"r\")\n",
        "data = f.read()\n",
        "lines = data.split(\"\\n\")\n",
        "for line in lines:\n",
        "    if( line != ' ' and line != '\\n'):\n",
        "        X_train.append(line)\n",
        "        contents.append(line)\n",
        "        y_train.append(1)\n",
        "\n",
        "f.close()\n",
        "del X_train[-1]\n",
        "del y_train[-1]\n",
        "del contents[-1]\n",
        "\n",
        "print(len(X_train))\n",
        "print(len(y_train))\n",
        "\n",
        "\n",
        "X_test = []\n",
        "y_test = []\n",
        "f = open(\"data/test_neg.txt\", \"r\")\n",
        "data = f.read()\n",
        "lines = data.split(\"\\n\")\n",
        "for line in lines:\n",
        "    if( line != ' ' and line != '\\n'):\n",
        "        X_test.append(line)\n",
        "        contents.append(line)\n",
        "        y_test.append(0)\n",
        "f.close()\n",
        "\n",
        "del X_test[-1]\n",
        "del y_test[-1]\n",
        "del contents[-1]\n",
        "\n",
        "f = open(\"data/test_pos.txt\", \"r\")\n",
        "data = f.read()\n",
        "lines = data.split(\"\\n\")\n",
        "for line in lines:\n",
        "    if( line != ' ' and line != '\\n'):\n",
        "        X_test.append(line)\n",
        "        contents.append(line)\n",
        "        y_test.append(1)\n",
        "f.close()\n",
        "\n",
        "del X_test[-1]\n",
        "del y_test[-1]\n",
        "del contents[-1]\n",
        "print(len(X_test))\n",
        "print(len(y_test))\n"
      ],
      "execution_count": 3,
      "outputs": [
        {
          "output_type": "stream",
          "text": [
            "40000\n",
            "40000\n",
            "10000\n",
            "10000\n"
          ],
          "name": "stdout"
        }
      ]
    },
    {
      "cell_type": "code",
      "metadata": {
        "id": "p-HjbzzyJfp0"
      },
      "source": [
        "import numpy as np \n",
        "from sklearn.feature_extraction.text import CountVectorizer, TfidfVectorizer,TfidfTransformer\n",
        "from scipy import sparse, io\n",
        "\n",
        "from sklearn.svm import SVC\n",
        "from sklearn import metrics\n",
        "from scipy import io\n",
        "from sklearn.pipeline import Pipeline\n",
        "from sklearn.model_selection import GridSearchCV\n",
        "import matplotlib.pyplot as plt\n"
      ],
      "execution_count": 4,
      "outputs": []
    },
    {
      "cell_type": "code",
      "metadata": {
        "colab": {
          "base_uri": "https://localhost:8080/",
          "height": 297
        },
        "id": "xk-B4_EdUbj6",
        "outputId": "9ae46009-b389-47f6-b3dc-a872dc2e03ab"
      },
      "source": [
        "X_train_counts = [len(a.split()) for a in X_train if (len(a.split())< 200)]\r\n",
        "len(X_train_counts)\r\n",
        "X_train_count_unique = np.unique(X_train_counts, return_counts = True)\r\n",
        "X_train_count_unique\r\n",
        "plt.title('Biểu đồ thể hiện số từ của các văn bản trong tập train')\r\n",
        "plt.xlabel('Số lượng từ trong 1 văn bản')\r\n",
        "plt.ylabel('Số văn bản')\r\n",
        "plt.bar(X_train_count_unique[0], X_train_count_unique[1], color='r')\r\n",
        "plt.show()"
      ],
      "execution_count": 6,
      "outputs": [
        {
          "output_type": "display_data",
          "data": {
            "image/png": "[encoded data removed]",
            "text/plain": [
              "<Figure size 432x288 with 1 Axes>"
            ]
          },
          "metadata": {
            "tags": [],
            "needs_background": "light"
          }
        }
      ]
    },
    {
      "cell_type": "code",
      "metadata": {
        "colab": {
          "base_uri": "https://localhost:8080/",
          "height": 297
        },
        "id": "99eSYCKSUbrN",
        "outputId": "2711513f-2158-4f59-dbf0-a53366407389"
      },
      "source": [
        "X_test_counts = [len(a.split()) for a in X_test if (len(a.split())< 200)]\r\n",
        "len(X_train_counts)\r\n",
        "X_test_count_unique = np.unique(X_test_counts, return_counts = True)\r\n",
        "X_test_count_unique\r\n",
        "plt.title('Biểu đồ thể hiện số từ của các văn bản trong tập test')\r\n",
        "plt.xlabel('Số lượng từ trong 1 văn bản')\r\n",
        "plt.ylabel('Số văn bản')\r\n",
        "plt.bar(X_test_count_unique[0], X_test_count_unique[1], color='b')\r\n",
        "plt.show()"
      ],
      "execution_count": 7,
      "outputs": [
        {
          "output_type": "display_data",
          "data": {
            "image/png": "[encoded data removed]",
            "text/plain": [
              "<Figure size 432x288 with 1 Axes>"
            ]
          },
          "metadata": {
            "tags": [],
            "needs_background": "light"
          }
        }
      ]
    },
    {
      "cell_type": "code",
      "metadata": {
        "colab": {
          "base_uri": "https://localhost:8080/",
          "height": 297
        },
        "id": "_HfwKZ-lUbuE",
        "outputId": "d8b30e4f-f5dc-44f3-a8cd-9f4c11789051"
      },
      "source": [
        "\r\n",
        "y_train_counts = np.unique(y_train, return_counts = True)\r\n",
        "label = ['Tiêu cực', 'Tích cực']\r\n",
        "plt.title('Biểu đồ thể hiện phân bố nhãn của tập train')\r\n",
        "plt.xlabel('Tần số')\r\n",
        "plt.ylabel('Nhãn')\r\n",
        "plt.bar(label, y_train_counts[1], color='r', width=0.5)\r\n",
        "plt.show()"
      ],
      "execution_count": 8,
      "outputs": [
        {
          "output_type": "display_data",
          "data": {
            "image/png": "[encoded data removed]",
            "text/plain": [
              "<Figure size 432x288 with 1 Axes>"
            ]
          },
          "metadata": {
            "tags": [],
            "needs_background": "light"
          }
        }
      ]
    },
    {
      "cell_type": "code",
      "metadata": {
        "colab": {
          "base_uri": "https://localhost:8080/",
          "height": 297
        },
        "id": "nZuifZxAUbyb",
        "outputId": "035942ea-88aa-4a17-c910-ad4cd92f0464"
      },
      "source": [
        "y_test_counts = np.unique(y_test, return_counts = True)\r\n",
        "label = ['Tiêu cực', 'Tích cực']\r\n",
        "plt.title('Biểu đồ thể hiện phân bố nhãn của tập test')\r\n",
        "plt.xlabel('Tần số')\r\n",
        "plt.ylabel('Nhãn')\r\n",
        "plt.bar(label, y_test_counts[1], color='b', width = 0.5)\r\n",
        "plt.show()"
      ],
      "execution_count": 9,
      "outputs": [
        {
          "output_type": "display_data",
          "data": {
            "image/png": "[encoded data removed]",
            "text/plain": [
              "<Figure size 432x288 with 1 Axes>"
            ]
          },
          "metadata": {
            "tags": [],
            "needs_background": "light"
          }
        }
      ]
    },
    {
      "cell_type": "code",
      "metadata": {
        "id": "oRWS6dA-O55W"
      },
      "source": [
        ""
      ],
      "execution_count": null,
      "outputs": []
    }
  ]
}